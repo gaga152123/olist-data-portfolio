{
 "cells": [
  {
   "cell_type": "markdown",
   "id": "924cb9ab",
   "metadata": {},
   "source": [
    "\n",
    "# 🛍️ Olist 마켓플레이스 데이터 분석\n",
    "\n",
    "이 프로젝트는 브라질 이커머스 플랫폼인 **Olist**의 데이터를 바탕으로 판매자 성과, 제품 카테고리 성과, 고객 지역별 구매 현황을 분석합니다.\n",
    "\n",
    "## 📌 분석 목표\n",
    "- 우수 판매자 식별\n",
    "- 매출 효율이 높은 상품군 분석\n",
    "- 지역별 마케팅 전략 수립 기반 데이터 제공\n"
   ]
  },
  {
   "cell_type": "markdown",
   "id": "89c474a8",
   "metadata": {},
   "source": [
    "\n",
    "## ⚙️ 데이터 준비 (필수 단계)\n",
    "\n",
    "이 노트북을 실행하기 전에 아래 단계를 먼저 따라 해주세요:\n",
    "\n",
    "1. [Kaggle에서 Olist 데이터셋 다운로드](https://www.kaggle.com/datasets/olistbr/brazilian-ecommerce)\n",
    "2. `archive.zip` 또는 압축된 파일을 Google Colab에 업로드합니다.\n",
    "3. 아래 코드를 실행하면 됩니다.\n"
   ]
  },
  {
   "cell_type": "code",
   "execution_count": null,
   "id": "4cf0db1b",
   "metadata": {},
   "outputs": [],
   "source": [
    "\n",
    "# STEP 1: ZIP 파일 업로드\n",
    "from google.colab import files\n",
    "uploaded = files.upload()\n"
   ]
  },
  {
   "cell_type": "code",
   "execution_count": null,
   "id": "e28d2e7c",
   "metadata": {},
   "outputs": [],
   "source": [
    "\n",
    "# STEP 2: 압축 해제\n",
    "import zipfile\n",
    "with zipfile.ZipFile(\"archive.zip\", \"r\") as zip_ref:\n",
    "    zip_ref.extractall(\"olist_data\")\n"
   ]
  },
  {
   "cell_type": "code",
   "execution_count": null,
   "id": "7476c459",
   "metadata": {},
   "outputs": [],
   "source": [
    "\n",
    "# STEP 3: CSV 불러오기\n",
    "import pandas as pd\n",
    "\n",
    "orders = pd.read_csv(\"olist_data/olist_orders_dataset.csv\")\n",
    "order_items = pd.read_csv(\"olist_data/olist_order_items_dataset.csv\")\n",
    "order_reviews = pd.read_csv(\"olist_data/olist_order_reviews_dataset.csv\")\n",
    "sellers = pd.read_csv(\"olist_data/olist_sellers_dataset.csv\")\n",
    "products = pd.read_csv(\"olist_data/olist_products_dataset.csv\")\n",
    "categories = pd.read_csv(\"olist_data/product_category_name_translation.csv\")\n",
    "customers = pd.read_csv(\"olist_data/olist_customers_dataset.csv\")\n",
    "payments = pd.read_csv(\"olist_data/olist_order_payments_dataset.csv\")\n"
   ]
  },
  {
   "cell_type": "markdown",
   "id": "8de34253",
   "metadata": {},
   "source": [
    "## 🔎 판매자 성과 분석"
   ]
  },
  {
   "cell_type": "code",
   "execution_count": null,
   "id": "bd586022",
   "metadata": {},
   "outputs": [],
   "source": [
    "\n",
    "import sqlite3\n",
    "\n",
    "# SQLite에 저장\n",
    "conn = sqlite3.connect(\":memory:\")\n",
    "orders.to_sql(\"orders\", conn, index=False)\n",
    "order_items.to_sql(\"order_items\", conn, index=False)\n",
    "order_reviews.to_sql(\"order_reviews\", conn, index=False)\n",
    "sellers.to_sql(\"sellers\", conn, index=False)\n",
    "\n",
    "# SQL 분석\n",
    "query = '''\n",
    "SELECT\n",
    "    s.seller_id,\n",
    "    s.seller_city,\n",
    "    s.seller_state,\n",
    "    ROUND(SUM(oi.price), 2) AS total_sales,\n",
    "    ROUND(AVG(r.review_score), 2) AS avg_review_score,\n",
    "    ROUND(AVG(JULIANDAY(o.order_delivered_customer_date) - JULIANDAY(o.order_approved_at)), 2) AS avg_delivery_days,\n",
    "    COUNT(DISTINCT o.order_id) AS total_orders\n",
    "FROM order_items oi\n",
    "JOIN orders o ON oi.order_id = o.order_id\n",
    "LEFT JOIN order_reviews r ON o.order_id = r.order_id\n",
    "JOIN sellers s ON oi.seller_id = s.seller_id\n",
    "WHERE o.order_delivered_customer_date IS NOT NULL\n",
    "  AND o.order_approved_at IS NOT NULL\n",
    "GROUP BY s.seller_id, s.seller_city, s.seller_state\n",
    "ORDER BY total_sales DESC\n",
    "LIMIT 10;\n",
    "'''\n",
    "seller_result = pd.read_sql_query(query, conn)\n",
    "seller_result\n"
   ]
  },
  {
   "cell_type": "markdown",
   "id": "ee1ee476",
   "metadata": {},
   "source": [
    "## 📦 카테고리별 성과 분석"
   ]
  },
  {
   "cell_type": "code",
   "execution_count": null,
   "id": "96be00fd",
   "metadata": {},
   "outputs": [],
   "source": [
    "\n",
    "merged = order_items.merge(products, on='product_id', how='left')\n",
    "merged = merged.merge(orders[['order_id', 'order_delivered_customer_date', 'order_approved_at']], on='order_id', how='left')\n",
    "merged = merged.merge(order_reviews[['order_id', 'review_score']], on='order_id', how='left')\n",
    "merged = merged.merge(categories, on='product_category_name', how='left')\n",
    "\n",
    "merged['order_delivered_customer_date'] = pd.to_datetime(merged['order_delivered_customer_date'])\n",
    "merged['order_approved_at'] = pd.to_datetime(merged['order_approved_at'])\n",
    "merged['delivery_days'] = (merged['order_delivered_customer_date'] - merged['order_approved_at']).dt.days\n",
    "\n",
    "category_summary = merged.groupby('product_category_name_english').agg(\n",
    "    total_sales=('price', 'sum'),\n",
    "    avg_review_score=('review_score', 'mean'),\n",
    "    avg_delivery_days=('delivery_days', 'mean'),\n",
    "    order_count=('order_id', 'nunique')\n",
    ").reset_index()\n",
    "\n",
    "category_summary.sort_values(by='total_sales', ascending=False).head(10)\n"
   ]
  },
  {
   "cell_type": "markdown",
   "id": "a34d7ee1",
   "metadata": {},
   "source": [
    "## 🗺️ 지역별 매출 분석"
   ]
  },
  {
   "cell_type": "code",
   "execution_count": null,
   "id": "c6a361a2",
   "metadata": {},
   "outputs": [],
   "source": [
    "\n",
    "merged_region = orders.merge(customers, on='customer_id', how='left')\n",
    "merged_region = merged_region.merge(payments.groupby('order_id').agg(total_payment=('payment_value', 'sum')).reset_index(), on='order_id', how='left')\n",
    "\n",
    "city_summary = merged_region.groupby(['customer_city', 'customer_state']).agg(\n",
    "    total_sales=('total_payment', 'sum'),\n",
    "    total_customers=('customer_id', 'nunique'),\n",
    "    avg_payment_per_order=('total_payment', 'mean')\n",
    ").reset_index()\n",
    "\n",
    "city_summary.sort_values(by='total_sales', ascending=False).head(10)\n"
   ]
  },
  {
   "cell_type": "markdown",
   "id": "b795ebf8",
   "metadata": {},
   "source": [
    "\n",
    "## ✅ 결론 및 제안\n",
    "\n",
    "- **판매자 분석**: 리뷰 평점과 빠른 배송이 높은 매출과 연결됨\n",
    "- **카테고리 분석**: Health & Beauty, Sports는 매출과 리뷰 모두 강세\n",
    "- **지역 분석**: 상파울루 지역이 핵심 매출처\n",
    "\n",
    "이 분석은 신규 입점자 평가, 지역 마케팅 전략 수립, 물류 정책 개선에 활용될 수 있습니다.\n"
   ]
  }
 ],
 "metadata": {},
 "nbformat": 4,
 "nbformat_minor": 5
}
